{
 "cells": [
  {
   "cell_type": "code",
   "execution_count": 35,
   "metadata": {},
   "outputs": [
    {
     "name": "stdout",
     "output_type": "stream",
     "text": [
      "sum_val =  1.0\n",
      "sum_val =  2.6363636363636367\n",
      "sum_val =  4.414141414141414\n",
      "sum_val =  5.663117290336226\n",
      "0.15007990350857822\n",
      "[ 0.1500799   0.2455853   0.26680872  0.18744618] \n",
      " 0.849920096491\n"
     ]
    }
   ],
   "source": [
    "import numpy as np\n",
    "n = 4\n",
    "p = np.zeros(n)\n",
    "sum_val = 0\n",
    "\n",
    "for i in range(n):\n",
    "    sum_val += ((2**i * (10 - i)**i) / (i + 10)**i)\n",
    "    print(\"sum_val = \", sum_val)\n",
    "\n",
    "p_0 = 1/(1+sum_val)\n",
    "print(p_0)\n",
    "\n",
    "for i in range(n):\n",
    "    p[i] = p_0 * ((10 - i) / (i / 2 + 5))**i\n",
    "    \n",
    "print(p, '\\n', sum(p))"
   ]
  },
  {
   "cell_type": "code",
   "execution_count": null,
   "metadata": {
    "collapsed": true
   },
   "outputs": [],
   "source": []
  },
  {
   "cell_type": "code",
   "execution_count": null,
   "metadata": {
    "collapsed": true
   },
   "outputs": [],
   "source": []
  },
  {
   "cell_type": "code",
   "execution_count": null,
   "metadata": {
    "collapsed": true
   },
   "outputs": [],
   "source": []
  }
 ],
 "metadata": {
  "kernelspec": {
   "display_name": "Python 3",
   "language": "python",
   "name": "python3"
  },
  "language_info": {
   "codemirror_mode": {
    "name": "ipython",
    "version": 3
   },
   "file_extension": ".py",
   "mimetype": "text/x-python",
   "name": "python",
   "nbconvert_exporter": "python",
   "pygments_lexer": "ipython3",
   "version": "3.6.1"
  }
 },
 "nbformat": 4,
 "nbformat_minor": 2
}
