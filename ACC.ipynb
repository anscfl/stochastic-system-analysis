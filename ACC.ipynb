{
 "cells": [
  {
   "cell_type": "code",
   "execution_count": 9,
   "metadata": {},
   "outputs": [
    {
     "name": "stdout",
     "output_type": "stream",
     "text": [
      "[0.14831717056474614, 0.12236166571591557, 0.10039931545921278, 0.08157444381061038] \n",
      " 0.45265259555048487\n"
     ]
    }
   ],
   "source": [
    "n = 4\n",
    "p = []\n",
    "comp = 1\n",
    "sum_val = 0\n",
    "\n",
    "for i in range(n):\n",
    "    comp *= (10 - i)/((i+1) / 2 + 5)\n",
    "    sum_val += comp\n",
    "\n",
    "p_0 = 1/(1+sum_val)\n",
    "\n",
    "for i in range(n):\n",
    "    comp = 1\n",
    "    comp = (10 - i)/((i+1) / 2 + 5)\n",
    "    p.append(p_0*comp)\n",
    "    \n",
    "print(p,'\\n', sum(p))"
   ]
  },
  {
   "cell_type": "code",
   "execution_count": null,
   "metadata": {
    "collapsed": true
   },
   "outputs": [],
   "source": []
  }
 ],
 "metadata": {
  "kernelspec": {
   "display_name": "Python 3",
   "language": "python",
   "name": "python3"
  },
  "language_info": {
   "codemirror_mode": {
    "name": "ipython",
    "version": 3
   },
   "file_extension": ".py",
   "mimetype": "text/x-python",
   "name": "python",
   "nbconvert_exporter": "python",
   "pygments_lexer": "ipython3",
   "version": "3.6.1"
  }
 },
 "nbformat": 4,
 "nbformat_minor": 2
}
